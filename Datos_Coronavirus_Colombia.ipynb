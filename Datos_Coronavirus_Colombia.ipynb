{
  "nbformat": 4,
  "nbformat_minor": 0,
  "metadata": {
    "colab": {
      "name": "Datos-Coronavirus-Colombia.ipynb",
      "provenance": [],
      "collapsed_sections": []
    },
    "kernelspec": {
      "name": "python3",
      "display_name": "Python 3"
    }
  },
  "cells": [
    {
      "cell_type": "markdown",
      "metadata": {
        "id": "TaHlmJdDsaQS",
        "colab_type": "text"
      },
      "source": [
        "# Datos del COVID-19 en colombia"
      ]
    },
    {
      "cell_type": "markdown",
      "metadata": {
        "id": "XARqcXfVwZMH",
        "colab_type": "text"
      },
      "source": [
        "\n",
        "\n",
        "--- Primero realizaremos el llamado de la pagina https://www.datos.gov.co/Salud-y-Protecci-n-Social/Casos-positivos-de-COVID-19-en-Colombia/gt2j-8ykr donde se encontrara datos en relacion del COVID-19 en el pais por parte del gobierno luego de esos estara un apendice al lado derecho de la pagina (API-Docmuentos de la API) y le daremos click en este o simplente https://dev.socrata.com/foundry/www.datos.gov.co/gt2j-8ykr entraremos en este sitio web donde nos dan el codigo de como importar el dataset en diferentes lenguajes de programacion , ademas las dos paginas nos dan como se caracteristicas de el data set. Para este caso tomams el de lenguaje de programacion python, el cual estara puesto debjo de esta viñeta, ademas si no le ponemos limite solo nos apareceran 1000 datos hasta la fecha por tanto le ponemos el limite que aparece en la pagina como cantidad del dataset para la fecha 23/04/2020 son 4561.\n",
        "\n",
        "\n",
        "\n"
      ]
    },
    {
      "cell_type": "code",
      "metadata": {
        "id": "qT9El_8Ush-E",
        "colab_type": "code",
        "outputId": "1d8eed8b-1032-428a-b413-cac0b82c4ade",
        "colab": {
          "base_uri": "https://localhost:8080/",
          "height": 225
        }
      },
      "source": [
        "#!/usr/bin/env python\n",
        "\n",
        "# make sure to install these packages before running:\n",
        "!pip install pandas\n",
        "!pip install sodapy\n",
        "\n",
        "import pandas as pd\n",
        "from sodapy import Socrata\n",
        "\n",
        "# Unauthenticated client only works with public data sets. Note 'None'\n",
        "# in place of application token, and no username or password:\n",
        "client = Socrata(\"www.datos.gov.co\", None)\n",
        "\n",
        "# Example authenticated client (needed for non-public datasets):\n",
        "# client = Socrata(www.datos.gov.co,\n",
        "#                  MyAppToken,\n",
        "#                  userame=\"user@example.com\",\n",
        "#                  password=\"AFakePassword\")\n",
        "\n",
        "# First 2000 results, returned as JSON from API / converted to Python list of\n",
        "# dictionaries by sodapy.\n",
        "results = client.get(\"gt2j-8ykr\",limit=4561) \n",
        "\n",
        "# Convert to pandas DataFrame\n",
        "results_df = pd.DataFrame.from_records(results)"
      ],
      "execution_count": 0,
      "outputs": [
        {
          "output_type": "stream",
          "text": [
            "Requirement already satisfied: pandas in /usr/local/lib/python3.6/dist-packages (1.0.3)\n",
            "Requirement already satisfied: pytz>=2017.2 in /usr/local/lib/python3.6/dist-packages (from pandas) (2018.9)\n",
            "Requirement already satisfied: numpy>=1.13.3 in /usr/local/lib/python3.6/dist-packages (from pandas) (1.18.3)\n",
            "Requirement already satisfied: python-dateutil>=2.6.1 in /usr/local/lib/python3.6/dist-packages (from pandas) (2.8.1)\n",
            "Requirement already satisfied: six>=1.5 in /usr/local/lib/python3.6/dist-packages (from python-dateutil>=2.6.1->pandas) (1.12.0)\n",
            "Requirement already satisfied: sodapy in /usr/local/lib/python3.6/dist-packages (2.1.0)\n",
            "Requirement already satisfied: requests>=2.20.0 in /usr/local/lib/python3.6/dist-packages (from sodapy) (2.21.0)\n",
            "Requirement already satisfied: chardet<3.1.0,>=3.0.2 in /usr/local/lib/python3.6/dist-packages (from requests>=2.20.0->sodapy) (3.0.4)\n",
            "Requirement already satisfied: certifi>=2017.4.17 in /usr/local/lib/python3.6/dist-packages (from requests>=2.20.0->sodapy) (2020.4.5.1)\n",
            "Requirement already satisfied: idna<2.9,>=2.5 in /usr/local/lib/python3.6/dist-packages (from requests>=2.20.0->sodapy) (2.8)\n",
            "Requirement already satisfied: urllib3<1.25,>=1.21.1 in /usr/local/lib/python3.6/dist-packages (from requests>=2.20.0->sodapy) (1.24.3)\n"
          ],
          "name": "stdout"
        },
        {
          "output_type": "stream",
          "text": [
            "WARNING:root:Requests made without an app_token will be subject to strict throttling limits.\n"
          ],
          "name": "stderr"
        }
      ]
    },
    {
      "cell_type": "markdown",
      "metadata": {
        "id": "a8Szk4YHy_NP",
        "colab_type": "text"
      },
      "source": [
        "Veremos la cabezera de los datos de forma, para ver como estos no salen en datafame ya convertido por la libreria pandas"
      ]
    },
    {
      "cell_type": "code",
      "metadata": {
        "id": "qaq4DVqsys5l",
        "colab_type": "code",
        "outputId": "61640dce-1bf2-40ab-9b9f-4391f416be69",
        "colab": {
          "base_uri": "https://localhost:8080/",
          "height": 309
        }
      },
      "source": [
        "results_df.head()"
      ],
      "execution_count": 0,
      "outputs": [
        {
          "output_type": "execute_result",
          "data": {
            "text/html": [
              "<div>\n",
              "<style scoped>\n",
              "    .dataframe tbody tr th:only-of-type {\n",
              "        vertical-align: middle;\n",
              "    }\n",
              "\n",
              "    .dataframe tbody tr th {\n",
              "        vertical-align: top;\n",
              "    }\n",
              "\n",
              "    .dataframe thead th {\n",
              "        text-align: right;\n",
              "    }\n",
              "</style>\n",
              "<table border=\"1\" class=\"dataframe\">\n",
              "  <thead>\n",
              "    <tr style=\"text-align: right;\">\n",
              "      <th></th>\n",
              "      <th>id_de_caso</th>\n",
              "      <th>fecha_de_notificaci_n</th>\n",
              "      <th>codigo_divipola</th>\n",
              "      <th>ciudad_de_ubicaci_n</th>\n",
              "      <th>departamento</th>\n",
              "      <th>atenci_n</th>\n",
              "      <th>edad</th>\n",
              "      <th>sexo</th>\n",
              "      <th>tipo</th>\n",
              "      <th>estado</th>\n",
              "      <th>pa_s_de_procedencia</th>\n",
              "      <th>fis</th>\n",
              "      <th>fecha_de_muerte</th>\n",
              "      <th>fecha_diagnostico</th>\n",
              "      <th>fecha_recuperado</th>\n",
              "      <th>fecha_reporte_web</th>\n",
              "    </tr>\n",
              "  </thead>\n",
              "  <tbody>\n",
              "    <tr>\n",
              "      <th>0</th>\n",
              "      <td>1</td>\n",
              "      <td>2020-03-02T00:00:00.000</td>\n",
              "      <td>11001</td>\n",
              "      <td>Bogotá D.C.</td>\n",
              "      <td>Bogotá D.C.</td>\n",
              "      <td>Recuperado</td>\n",
              "      <td>19</td>\n",
              "      <td>F</td>\n",
              "      <td>Importado</td>\n",
              "      <td>Leve</td>\n",
              "      <td>ITALIA</td>\n",
              "      <td>2020-02-27T00:00:00.000</td>\n",
              "      <td>-   -</td>\n",
              "      <td>2020-03-06T00:00:00.000</td>\n",
              "      <td>2020-03-13T00:00:00.000</td>\n",
              "      <td>2020-03-06T00:00:00.000</td>\n",
              "    </tr>\n",
              "    <tr>\n",
              "      <th>1</th>\n",
              "      <td>2</td>\n",
              "      <td>2020-03-06T00:00:00.000</td>\n",
              "      <td>76111</td>\n",
              "      <td>Guadalajara de Buga</td>\n",
              "      <td>Valle del Cauca</td>\n",
              "      <td>Recuperado</td>\n",
              "      <td>34</td>\n",
              "      <td>M</td>\n",
              "      <td>Importado</td>\n",
              "      <td>Leve</td>\n",
              "      <td>ESPAÑA</td>\n",
              "      <td>2020-03-04T00:00:00.000</td>\n",
              "      <td>-   -</td>\n",
              "      <td>2020-03-09T00:00:00.000</td>\n",
              "      <td>2020-03-19T00:00:00.000</td>\n",
              "      <td>2020-03-09T00:00:00.000</td>\n",
              "    </tr>\n",
              "    <tr>\n",
              "      <th>2</th>\n",
              "      <td>3</td>\n",
              "      <td>2020-03-07T00:00:00.000</td>\n",
              "      <td>5001</td>\n",
              "      <td>Medellín</td>\n",
              "      <td>Antioquia</td>\n",
              "      <td>Recuperado</td>\n",
              "      <td>50</td>\n",
              "      <td>F</td>\n",
              "      <td>Importado</td>\n",
              "      <td>Leve</td>\n",
              "      <td>ESPAÑA</td>\n",
              "      <td>2020-02-29T00:00:00.000</td>\n",
              "      <td>-   -</td>\n",
              "      <td>2020-03-09T00:00:00.000</td>\n",
              "      <td>2020-03-15T00:00:00.000</td>\n",
              "      <td>2020-03-09T00:00:00.000</td>\n",
              "    </tr>\n",
              "    <tr>\n",
              "      <th>3</th>\n",
              "      <td>4</td>\n",
              "      <td>2020-03-09T00:00:00.000</td>\n",
              "      <td>5001</td>\n",
              "      <td>Medellín</td>\n",
              "      <td>Antioquia</td>\n",
              "      <td>Recuperado</td>\n",
              "      <td>55</td>\n",
              "      <td>M</td>\n",
              "      <td>Relacionado</td>\n",
              "      <td>Leve</td>\n",
              "      <td>COLOMBIA</td>\n",
              "      <td>2020-03-06T00:00:00.000</td>\n",
              "      <td>-   -</td>\n",
              "      <td>2020-03-11T00:00:00.000</td>\n",
              "      <td>2020-03-26T00:00:00.000</td>\n",
              "      <td>2020-03-11T00:00:00.000</td>\n",
              "    </tr>\n",
              "    <tr>\n",
              "      <th>4</th>\n",
              "      <td>5</td>\n",
              "      <td>2020-03-09T00:00:00.000</td>\n",
              "      <td>5001</td>\n",
              "      <td>Medellín</td>\n",
              "      <td>Antioquia</td>\n",
              "      <td>Recuperado</td>\n",
              "      <td>25</td>\n",
              "      <td>M</td>\n",
              "      <td>Relacionado</td>\n",
              "      <td>Leve</td>\n",
              "      <td>COLOMBIA</td>\n",
              "      <td>2020-03-08T00:00:00.000</td>\n",
              "      <td>-   -</td>\n",
              "      <td>2020-03-11T00:00:00.000</td>\n",
              "      <td>2020-03-23T00:00:00.000</td>\n",
              "      <td>2020-03-11T00:00:00.000</td>\n",
              "    </tr>\n",
              "  </tbody>\n",
              "</table>\n",
              "</div>"
            ],
            "text/plain": [
              "  id_de_caso  ...        fecha_reporte_web\n",
              "0          1  ...  2020-03-06T00:00:00.000\n",
              "1          2  ...  2020-03-09T00:00:00.000\n",
              "2          3  ...  2020-03-09T00:00:00.000\n",
              "3          4  ...  2020-03-11T00:00:00.000\n",
              "4          5  ...  2020-03-11T00:00:00.000\n",
              "\n",
              "[5 rows x 16 columns]"
            ]
          },
          "metadata": {
            "tags": []
          },
          "execution_count": 25
        }
      ]
    },
    {
      "cell_type": "markdown",
      "metadata": {
        "id": "yWSES23X0RY7",
        "colab_type": "text"
      },
      "source": [
        "Como veran cada columna dara una informacion diferente la cual partira de inicial de 16 columnas por tanto ahora borraremos la informacion que consideremos innecesaria."
      ]
    },
    {
      "cell_type": "code",
      "metadata": {
        "id": "B7KMIVDpzNXg",
        "colab_type": "code",
        "outputId": "7e81cfd1-7af3-422b-d0af-e4ebd7a9a05a",
        "colab": {
          "base_uri": "https://localhost:8080/",
          "height": 104
        }
      },
      "source": [
        "results_df.columns"
      ],
      "execution_count": 0,
      "outputs": [
        {
          "output_type": "execute_result",
          "data": {
            "text/plain": [
              "Index(['id_de_caso', 'fecha_de_notificaci_n', 'codigo_divipola',\n",
              "       'ciudad_de_ubicaci_n', 'departamento', 'atenci_n', 'edad', 'sexo',\n",
              "       'tipo', 'estado', 'pa_s_de_procedencia', 'fis', 'fecha_de_muerte',\n",
              "       'fecha_diagnostico', 'fecha_recuperado', 'fecha_reporte_web'],\n",
              "      dtype='object')"
            ]
          },
          "metadata": {
            "tags": []
          },
          "execution_count": 3
        }
      ]
    },
    {
      "cell_type": "markdown",
      "metadata": {
        "id": "2h82NoR31Cri",
        "colab_type": "text"
      },
      "source": [
        "Observando las cabezeras de los datos anteriormente relizeremos una limpieza de datos y como es un simple ejercicio dejaremos las variables que para mi consideracion son las masinfluyentes y mas facil de manejar."
      ]
    },
    {
      "cell_type": "code",
      "metadata": {
        "id": "kNYloQke01nS",
        "colab_type": "code",
        "outputId": "474f96bc-24cd-475d-f1f7-6f26b4e1156c",
        "colab": {
          "base_uri": "https://localhost:8080/",
          "height": 416
        }
      },
      "source": [
        "results_df=results_df.drop(['fecha_de_notificaci_n','codigo_divipola','fecha_reporte_web', 'fis'],axis=1)\n",
        "results_df"
      ],
      "execution_count": 0,
      "outputs": [
        {
          "output_type": "execute_result",
          "data": {
            "text/html": [
              "<div>\n",
              "<style scoped>\n",
              "    .dataframe tbody tr th:only-of-type {\n",
              "        vertical-align: middle;\n",
              "    }\n",
              "\n",
              "    .dataframe tbody tr th {\n",
              "        vertical-align: top;\n",
              "    }\n",
              "\n",
              "    .dataframe thead th {\n",
              "        text-align: right;\n",
              "    }\n",
              "</style>\n",
              "<table border=\"1\" class=\"dataframe\">\n",
              "  <thead>\n",
              "    <tr style=\"text-align: right;\">\n",
              "      <th></th>\n",
              "      <th>id_de_caso</th>\n",
              "      <th>ciudad_de_ubicaci_n</th>\n",
              "      <th>departamento</th>\n",
              "      <th>atenci_n</th>\n",
              "      <th>edad</th>\n",
              "      <th>sexo</th>\n",
              "      <th>tipo</th>\n",
              "      <th>estado</th>\n",
              "      <th>pa_s_de_procedencia</th>\n",
              "      <th>fecha_de_muerte</th>\n",
              "      <th>fecha_diagnostico</th>\n",
              "      <th>fecha_recuperado</th>\n",
              "    </tr>\n",
              "  </thead>\n",
              "  <tbody>\n",
              "    <tr>\n",
              "      <th>0</th>\n",
              "      <td>1</td>\n",
              "      <td>Bogotá D.C.</td>\n",
              "      <td>Bogotá D.C.</td>\n",
              "      <td>Recuperado</td>\n",
              "      <td>19</td>\n",
              "      <td>F</td>\n",
              "      <td>Importado</td>\n",
              "      <td>Leve</td>\n",
              "      <td>ITALIA</td>\n",
              "      <td>-   -</td>\n",
              "      <td>2020-03-06T00:00:00.000</td>\n",
              "      <td>2020-03-13T00:00:00.000</td>\n",
              "    </tr>\n",
              "    <tr>\n",
              "      <th>1</th>\n",
              "      <td>2</td>\n",
              "      <td>Guadalajara de Buga</td>\n",
              "      <td>Valle del Cauca</td>\n",
              "      <td>Recuperado</td>\n",
              "      <td>34</td>\n",
              "      <td>M</td>\n",
              "      <td>Importado</td>\n",
              "      <td>Leve</td>\n",
              "      <td>ESPAÑA</td>\n",
              "      <td>-   -</td>\n",
              "      <td>2020-03-09T00:00:00.000</td>\n",
              "      <td>2020-03-19T00:00:00.000</td>\n",
              "    </tr>\n",
              "    <tr>\n",
              "      <th>2</th>\n",
              "      <td>3</td>\n",
              "      <td>Medellín</td>\n",
              "      <td>Antioquia</td>\n",
              "      <td>Recuperado</td>\n",
              "      <td>50</td>\n",
              "      <td>F</td>\n",
              "      <td>Importado</td>\n",
              "      <td>Leve</td>\n",
              "      <td>ESPAÑA</td>\n",
              "      <td>-   -</td>\n",
              "      <td>2020-03-09T00:00:00.000</td>\n",
              "      <td>2020-03-15T00:00:00.000</td>\n",
              "    </tr>\n",
              "    <tr>\n",
              "      <th>3</th>\n",
              "      <td>4</td>\n",
              "      <td>Medellín</td>\n",
              "      <td>Antioquia</td>\n",
              "      <td>Recuperado</td>\n",
              "      <td>55</td>\n",
              "      <td>M</td>\n",
              "      <td>Relacionado</td>\n",
              "      <td>Leve</td>\n",
              "      <td>COLOMBIA</td>\n",
              "      <td>-   -</td>\n",
              "      <td>2020-03-11T00:00:00.000</td>\n",
              "      <td>2020-03-26T00:00:00.000</td>\n",
              "    </tr>\n",
              "    <tr>\n",
              "      <th>4</th>\n",
              "      <td>5</td>\n",
              "      <td>Medellín</td>\n",
              "      <td>Antioquia</td>\n",
              "      <td>Recuperado</td>\n",
              "      <td>25</td>\n",
              "      <td>M</td>\n",
              "      <td>Relacionado</td>\n",
              "      <td>Leve</td>\n",
              "      <td>COLOMBIA</td>\n",
              "      <td>-   -</td>\n",
              "      <td>2020-03-11T00:00:00.000</td>\n",
              "      <td>2020-03-23T00:00:00.000</td>\n",
              "    </tr>\n",
              "    <tr>\n",
              "      <th>...</th>\n",
              "      <td>...</td>\n",
              "      <td>...</td>\n",
              "      <td>...</td>\n",
              "      <td>...</td>\n",
              "      <td>...</td>\n",
              "      <td>...</td>\n",
              "      <td>...</td>\n",
              "      <td>...</td>\n",
              "      <td>...</td>\n",
              "      <td>...</td>\n",
              "      <td>...</td>\n",
              "      <td>...</td>\n",
              "    </tr>\n",
              "    <tr>\n",
              "      <th>4556</th>\n",
              "      <td>4557</td>\n",
              "      <td>Bogotá D.C.</td>\n",
              "      <td>Bogotá D.C.</td>\n",
              "      <td>Casa</td>\n",
              "      <td>20</td>\n",
              "      <td>F</td>\n",
              "      <td>Relacionado</td>\n",
              "      <td>Leve</td>\n",
              "      <td>COLOMBIA</td>\n",
              "      <td>-   -</td>\n",
              "      <td>2020-04-23T00:00:00.000</td>\n",
              "      <td>-   -</td>\n",
              "    </tr>\n",
              "    <tr>\n",
              "      <th>4557</th>\n",
              "      <td>4558</td>\n",
              "      <td>Bogotá D.C.</td>\n",
              "      <td>Bogotá D.C.</td>\n",
              "      <td>Casa</td>\n",
              "      <td>33</td>\n",
              "      <td>F</td>\n",
              "      <td>Relacionado</td>\n",
              "      <td>Leve</td>\n",
              "      <td>COLOMBIA</td>\n",
              "      <td>-   -</td>\n",
              "      <td>2020-04-23T00:00:00.000</td>\n",
              "      <td>-   -</td>\n",
              "    </tr>\n",
              "    <tr>\n",
              "      <th>4558</th>\n",
              "      <td>4559</td>\n",
              "      <td>Cali</td>\n",
              "      <td>Valle del Cauca</td>\n",
              "      <td>Casa</td>\n",
              "      <td>69</td>\n",
              "      <td>F</td>\n",
              "      <td>En estudio</td>\n",
              "      <td>Leve</td>\n",
              "      <td>COLOMBIA</td>\n",
              "      <td>-   -</td>\n",
              "      <td>2020-04-23T00:00:00.000</td>\n",
              "      <td>-   -</td>\n",
              "    </tr>\n",
              "    <tr>\n",
              "      <th>4559</th>\n",
              "      <td>4560</td>\n",
              "      <td>Medellín</td>\n",
              "      <td>Antioquia</td>\n",
              "      <td>Casa</td>\n",
              "      <td>8</td>\n",
              "      <td>F</td>\n",
              "      <td>Relacionado</td>\n",
              "      <td>Leve</td>\n",
              "      <td>COLOMBIA</td>\n",
              "      <td>-   -</td>\n",
              "      <td>2020-04-23T00:00:00.000</td>\n",
              "      <td>-   -</td>\n",
              "    </tr>\n",
              "    <tr>\n",
              "      <th>4560</th>\n",
              "      <td>4561</td>\n",
              "      <td>Santa Marta</td>\n",
              "      <td>Santa Marta D.T. y C.</td>\n",
              "      <td>Casa</td>\n",
              "      <td>33</td>\n",
              "      <td>M</td>\n",
              "      <td>Relacionado</td>\n",
              "      <td>Leve</td>\n",
              "      <td>COLOMBIA</td>\n",
              "      <td>-   -</td>\n",
              "      <td>2020-04-23T00:00:00.000</td>\n",
              "      <td>-   -</td>\n",
              "    </tr>\n",
              "  </tbody>\n",
              "</table>\n",
              "<p>4561 rows × 12 columns</p>\n",
              "</div>"
            ],
            "text/plain": [
              "     id_de_caso  ...         fecha_recuperado\n",
              "0             1  ...  2020-03-13T00:00:00.000\n",
              "1             2  ...  2020-03-19T00:00:00.000\n",
              "2             3  ...  2020-03-15T00:00:00.000\n",
              "3             4  ...  2020-03-26T00:00:00.000\n",
              "4             5  ...  2020-03-23T00:00:00.000\n",
              "...         ...  ...                      ...\n",
              "4556       4557  ...                    -   -\n",
              "4557       4558  ...                    -   -\n",
              "4558       4559  ...                    -   -\n",
              "4559       4560  ...                    -   -\n",
              "4560       4561  ...                    -   -\n",
              "\n",
              "[4561 rows x 12 columns]"
            ]
          },
          "metadata": {
            "tags": []
          },
          "execution_count": 26
        }
      ]
    },
    {
      "cell_type": "markdown",
      "metadata": {
        "id": "rTpn_ahL3vy-",
        "colab_type": "text"
      },
      "source": [
        "Luego de esto pasaremos a separar nuestro dataset por departamento y ciudad de ubicacion, ademas de renombrar los nombres de las columnas."
      ]
    },
    {
      "cell_type": "code",
      "metadata": {
        "id": "PD_3pLW83Jse",
        "colab_type": "code",
        "outputId": "337a9a94-92ed-4443-c5f0-b94dbf5956d2",
        "colab": {
          "base_uri": "https://localhost:8080/",
          "height": 416
        }
      },
      "source": [
        "results_df.columns = ['Id', 'Ciudad', 'Departamento', 'Atencion', 'Edad', 'Sexo', 'Tipo','Estado', 'Pais de procedencia', 'Fecha de muerte', 'Fecha de diagnostico', 'Fecha de recuperado']\n",
        "results_df"
      ],
      "execution_count": 0,
      "outputs": [
        {
          "output_type": "execute_result",
          "data": {
            "text/html": [
              "<div>\n",
              "<style scoped>\n",
              "    .dataframe tbody tr th:only-of-type {\n",
              "        vertical-align: middle;\n",
              "    }\n",
              "\n",
              "    .dataframe tbody tr th {\n",
              "        vertical-align: top;\n",
              "    }\n",
              "\n",
              "    .dataframe thead th {\n",
              "        text-align: right;\n",
              "    }\n",
              "</style>\n",
              "<table border=\"1\" class=\"dataframe\">\n",
              "  <thead>\n",
              "    <tr style=\"text-align: right;\">\n",
              "      <th></th>\n",
              "      <th>Id</th>\n",
              "      <th>Ciudad</th>\n",
              "      <th>Departamento</th>\n",
              "      <th>Atencion</th>\n",
              "      <th>Edad</th>\n",
              "      <th>Sexo</th>\n",
              "      <th>Tipo</th>\n",
              "      <th>Estado</th>\n",
              "      <th>Pais de procedencia</th>\n",
              "      <th>Fecha de muerte</th>\n",
              "      <th>Fecha de diagnostico</th>\n",
              "      <th>Fecha de recuperado</th>\n",
              "    </tr>\n",
              "  </thead>\n",
              "  <tbody>\n",
              "    <tr>\n",
              "      <th>0</th>\n",
              "      <td>1</td>\n",
              "      <td>Bogotá D.C.</td>\n",
              "      <td>Bogotá D.C.</td>\n",
              "      <td>Recuperado</td>\n",
              "      <td>19</td>\n",
              "      <td>F</td>\n",
              "      <td>Importado</td>\n",
              "      <td>Leve</td>\n",
              "      <td>ITALIA</td>\n",
              "      <td>-   -</td>\n",
              "      <td>2020-03-06T00:00:00.000</td>\n",
              "      <td>2020-03-13T00:00:00.000</td>\n",
              "    </tr>\n",
              "    <tr>\n",
              "      <th>1</th>\n",
              "      <td>2</td>\n",
              "      <td>Guadalajara de Buga</td>\n",
              "      <td>Valle del Cauca</td>\n",
              "      <td>Recuperado</td>\n",
              "      <td>34</td>\n",
              "      <td>M</td>\n",
              "      <td>Importado</td>\n",
              "      <td>Leve</td>\n",
              "      <td>ESPAÑA</td>\n",
              "      <td>-   -</td>\n",
              "      <td>2020-03-09T00:00:00.000</td>\n",
              "      <td>2020-03-19T00:00:00.000</td>\n",
              "    </tr>\n",
              "    <tr>\n",
              "      <th>2</th>\n",
              "      <td>3</td>\n",
              "      <td>Medellín</td>\n",
              "      <td>Antioquia</td>\n",
              "      <td>Recuperado</td>\n",
              "      <td>50</td>\n",
              "      <td>F</td>\n",
              "      <td>Importado</td>\n",
              "      <td>Leve</td>\n",
              "      <td>ESPAÑA</td>\n",
              "      <td>-   -</td>\n",
              "      <td>2020-03-09T00:00:00.000</td>\n",
              "      <td>2020-03-15T00:00:00.000</td>\n",
              "    </tr>\n",
              "    <tr>\n",
              "      <th>3</th>\n",
              "      <td>4</td>\n",
              "      <td>Medellín</td>\n",
              "      <td>Antioquia</td>\n",
              "      <td>Recuperado</td>\n",
              "      <td>55</td>\n",
              "      <td>M</td>\n",
              "      <td>Relacionado</td>\n",
              "      <td>Leve</td>\n",
              "      <td>COLOMBIA</td>\n",
              "      <td>-   -</td>\n",
              "      <td>2020-03-11T00:00:00.000</td>\n",
              "      <td>2020-03-26T00:00:00.000</td>\n",
              "    </tr>\n",
              "    <tr>\n",
              "      <th>4</th>\n",
              "      <td>5</td>\n",
              "      <td>Medellín</td>\n",
              "      <td>Antioquia</td>\n",
              "      <td>Recuperado</td>\n",
              "      <td>25</td>\n",
              "      <td>M</td>\n",
              "      <td>Relacionado</td>\n",
              "      <td>Leve</td>\n",
              "      <td>COLOMBIA</td>\n",
              "      <td>-   -</td>\n",
              "      <td>2020-03-11T00:00:00.000</td>\n",
              "      <td>2020-03-23T00:00:00.000</td>\n",
              "    </tr>\n",
              "    <tr>\n",
              "      <th>...</th>\n",
              "      <td>...</td>\n",
              "      <td>...</td>\n",
              "      <td>...</td>\n",
              "      <td>...</td>\n",
              "      <td>...</td>\n",
              "      <td>...</td>\n",
              "      <td>...</td>\n",
              "      <td>...</td>\n",
              "      <td>...</td>\n",
              "      <td>...</td>\n",
              "      <td>...</td>\n",
              "      <td>...</td>\n",
              "    </tr>\n",
              "    <tr>\n",
              "      <th>4556</th>\n",
              "      <td>4557</td>\n",
              "      <td>Bogotá D.C.</td>\n",
              "      <td>Bogotá D.C.</td>\n",
              "      <td>Casa</td>\n",
              "      <td>20</td>\n",
              "      <td>F</td>\n",
              "      <td>Relacionado</td>\n",
              "      <td>Leve</td>\n",
              "      <td>COLOMBIA</td>\n",
              "      <td>-   -</td>\n",
              "      <td>2020-04-23T00:00:00.000</td>\n",
              "      <td>-   -</td>\n",
              "    </tr>\n",
              "    <tr>\n",
              "      <th>4557</th>\n",
              "      <td>4558</td>\n",
              "      <td>Bogotá D.C.</td>\n",
              "      <td>Bogotá D.C.</td>\n",
              "      <td>Casa</td>\n",
              "      <td>33</td>\n",
              "      <td>F</td>\n",
              "      <td>Relacionado</td>\n",
              "      <td>Leve</td>\n",
              "      <td>COLOMBIA</td>\n",
              "      <td>-   -</td>\n",
              "      <td>2020-04-23T00:00:00.000</td>\n",
              "      <td>-   -</td>\n",
              "    </tr>\n",
              "    <tr>\n",
              "      <th>4558</th>\n",
              "      <td>4559</td>\n",
              "      <td>Cali</td>\n",
              "      <td>Valle del Cauca</td>\n",
              "      <td>Casa</td>\n",
              "      <td>69</td>\n",
              "      <td>F</td>\n",
              "      <td>En estudio</td>\n",
              "      <td>Leve</td>\n",
              "      <td>COLOMBIA</td>\n",
              "      <td>-   -</td>\n",
              "      <td>2020-04-23T00:00:00.000</td>\n",
              "      <td>-   -</td>\n",
              "    </tr>\n",
              "    <tr>\n",
              "      <th>4559</th>\n",
              "      <td>4560</td>\n",
              "      <td>Medellín</td>\n",
              "      <td>Antioquia</td>\n",
              "      <td>Casa</td>\n",
              "      <td>8</td>\n",
              "      <td>F</td>\n",
              "      <td>Relacionado</td>\n",
              "      <td>Leve</td>\n",
              "      <td>COLOMBIA</td>\n",
              "      <td>-   -</td>\n",
              "      <td>2020-04-23T00:00:00.000</td>\n",
              "      <td>-   -</td>\n",
              "    </tr>\n",
              "    <tr>\n",
              "      <th>4560</th>\n",
              "      <td>4561</td>\n",
              "      <td>Santa Marta</td>\n",
              "      <td>Santa Marta D.T. y C.</td>\n",
              "      <td>Casa</td>\n",
              "      <td>33</td>\n",
              "      <td>M</td>\n",
              "      <td>Relacionado</td>\n",
              "      <td>Leve</td>\n",
              "      <td>COLOMBIA</td>\n",
              "      <td>-   -</td>\n",
              "      <td>2020-04-23T00:00:00.000</td>\n",
              "      <td>-   -</td>\n",
              "    </tr>\n",
              "  </tbody>\n",
              "</table>\n",
              "<p>4561 rows × 12 columns</p>\n",
              "</div>"
            ],
            "text/plain": [
              "        Id  ...      Fecha de recuperado\n",
              "0        1  ...  2020-03-13T00:00:00.000\n",
              "1        2  ...  2020-03-19T00:00:00.000\n",
              "2        3  ...  2020-03-15T00:00:00.000\n",
              "3        4  ...  2020-03-26T00:00:00.000\n",
              "4        5  ...  2020-03-23T00:00:00.000\n",
              "...    ...  ...                      ...\n",
              "4556  4557  ...                    -   -\n",
              "4557  4558  ...                    -   -\n",
              "4558  4559  ...                    -   -\n",
              "4559  4560  ...                    -   -\n",
              "4560  4561  ...                    -   -\n",
              "\n",
              "[4561 rows x 12 columns]"
            ]
          },
          "metadata": {
            "tags": []
          },
          "execution_count": 27
        }
      ]
    },
    {
      "cell_type": "markdown",
      "metadata": {
        "id": "RZsg9QrG8A5N",
        "colab_type": "text"
      },
      "source": [
        "Podemos saber cuantos departamentos estan contageados por el COVID-19, recordar que:\n",
        " ######  **Para las ciudades que son distritos (Cartagena, Bogotá, Santa Marta, Buenaventura y Barranquilla), sus cifras son independientes a las cifras del departamento al cual pertecen, en concordancia con la división oficial de Colombia.   **\n"
      ]
    },
    {
      "cell_type": "code",
      "metadata": {
        "id": "MuOh_UrloQFs",
        "colab_type": "code",
        "outputId": "ba3ecf2d-d57f-462a-ecd4-135086f82f9c",
        "colab": {
          "base_uri": "https://localhost:8080/",
          "height": 52
        }
      },
      "source": [
        "results_df['Atencion'].unique()"
      ],
      "execution_count": 0,
      "outputs": [
        {
          "output_type": "execute_result",
          "data": {
            "text/plain": [
              "array(['Recuperado', 'Casa', 'Fallecido', 'Hospital UCI', 'Hospital',\n",
              "       'fallecido'], dtype=object)"
            ]
          },
          "metadata": {
            "tags": []
          },
          "execution_count": 28
        }
      ]
    },
    {
      "cell_type": "code",
      "metadata": {
        "id": "els57OLX7okb",
        "colab_type": "code",
        "outputId": "f93e7bf7-773b-4c60-b9d2-b3619d004f66",
        "colab": {
          "base_uri": "https://localhost:8080/",
          "height": 173
        }
      },
      "source": [
        "results_df['Departamento'].unique()"
      ],
      "execution_count": 0,
      "outputs": [
        {
          "output_type": "execute_result",
          "data": {
            "text/plain": [
              "array(['Bogotá D.C.', 'Valle del Cauca', 'Antioquia',\n",
              "       'Cartagena D.T. y C.', 'Huila', 'Meta', 'Risaralda',\n",
              "       'Norte de Santander', 'Caldas', 'Cundinamarca',\n",
              "       'Barranquilla D.E.', 'Santander', 'Quindio', 'Tolima', 'Cauca',\n",
              "       'Santa Marta D.T. y C.', 'Cesar',\n",
              "       'Archipiélago de San Andrés Providencia y Santa Catalina',\n",
              "       'Casanare', 'Nariño', 'Atlántico', 'Boyacá', 'Córdoba', 'Bolívar',\n",
              "       'Sucre', 'Magdalena', 'La Guajira', 'Buenaventura D.E.', 'Chocó',\n",
              "       'Amazonas', 'Caquetá'], dtype=object)"
            ]
          },
          "metadata": {
            "tags": []
          },
          "execution_count": 29
        }
      ]
    },
    {
      "cell_type": "code",
      "metadata": {
        "id": "tMlf1-ec9VIJ",
        "colab_type": "code",
        "outputId": "6fdc08f8-d137-41be-bc4d-36ada61a5ae6",
        "colab": {
          "base_uri": "https://localhost:8080/",
          "height": 69
        }
      },
      "source": [
        "q=len(results_df['Departamento'].unique())-5 # Por los 5 distritos y un departamento de mas\n",
        "print('El total de departamentos contageados en el pais es de ',q)\n",
        "print('El total de departamentos con ciudades consideradas distritos es de',q+5)\n",
        "print('El % de departamentos contageados es de',int((q/32)*100),'%')"
      ],
      "execution_count": 0,
      "outputs": [
        {
          "output_type": "stream",
          "text": [
            "El total de departamentos contageados en el pais es de  26\n",
            "El total de departamentos con ciudades consideradas distritos es de 31\n",
            "El % de departamentos contageados es de 81 %\n"
          ],
          "name": "stdout"
        }
      ]
    },
    {
      "cell_type": "code",
      "metadata": {
        "id": "-tRPS3GMAFnM",
        "colab_type": "code",
        "outputId": "591d4c9e-9cad-4d29-b89d-b9c8cb533930",
        "colab": {
          "base_uri": "https://localhost:8080/",
          "height": 173
        }
      },
      "source": [
        "for i in range(len(results_df)):\n",
        "  if results_df['Departamento'][i]=='CUNDINAMARCA':\n",
        "    results_df['Departamento'][i]= 'Cundinamarca'\n",
        "  else:\n",
        "    pass\n",
        "results_df['Departamento'].unique()"
      ],
      "execution_count": 0,
      "outputs": [
        {
          "output_type": "execute_result",
          "data": {
            "text/plain": [
              "array(['Bogotá D.C.', 'Valle del Cauca', 'Antioquia',\n",
              "       'Cartagena D.T. y C.', 'Huila', 'Meta', 'Risaralda',\n",
              "       'Norte de Santander', 'Caldas', 'Cundinamarca',\n",
              "       'Barranquilla D.E.', 'Santander', 'Quindio', 'Tolima', 'Cauca',\n",
              "       'Santa Marta D.T. y C.', 'Cesar',\n",
              "       'Archipiélago de San Andrés Providencia y Santa Catalina',\n",
              "       'Casanare', 'Nariño', 'Atlántico', 'Boyacá', 'Córdoba', 'Bolívar',\n",
              "       'Sucre', 'Magdalena', 'La Guajira', 'Buenaventura D.E.', 'Chocó',\n",
              "       'Amazonas', 'Caquetá'], dtype=object)"
            ]
          },
          "metadata": {
            "tags": []
          },
          "execution_count": 31
        }
      ]
    },
    {
      "cell_type": "markdown",
      "metadata": {
        "id": "Xufq856LA1_8",
        "colab_type": "text"
      },
      "source": [
        "Esto mismo que realizamos para las ciudades para saber si se tiene datos repetidos."
      ]
    },
    {
      "cell_type": "code",
      "metadata": {
        "id": "iKV0tkQBBV3c",
        "colab_type": "code",
        "outputId": "1513f9db-1273-474c-ac61-6287d02f6d70",
        "colab": {
          "base_uri": "https://localhost:8080/",
          "height": 693
        }
      },
      "source": [
        "results_df['Ciudad'].unique()"
      ],
      "execution_count": 0,
      "outputs": [
        {
          "output_type": "execute_result",
          "data": {
            "text/plain": [
              "array(['Bogotá D.C.', 'Guadalajara de Buga', 'Medellín', 'Itagüí',\n",
              "       'Cartagena de Indias', 'Neiva', 'Palmira', 'Villavicencio',\n",
              "       'Rionegro', 'Cali', 'Dosquebradas', 'Cúcuta', 'Manizales',\n",
              "       'Subachoque', 'Soacha', 'Barranquilla', 'Floridablanca', 'Armenia',\n",
              "       'Pereira', 'Cajicá', 'Ibagué', 'Bucaramanga', 'Popayán', 'Viterbo',\n",
              "       'Anapoima', 'La Estrella', 'Envigado', 'Santa Marta', 'Chía',\n",
              "       'Madrid', 'Villa del Rosario', 'Cartago', 'Guarne', 'Bello',\n",
              "       'Calarcá', 'Valledupar', 'La Dorada', 'Chinchiná', 'San Andrés',\n",
              "       'Yumbo', 'Yopal', 'Guatapé', 'Cota', 'Sabaneta', 'Villamaría',\n",
              "       'Trujillo', 'Pacho', 'Retiro', 'Apartadó', 'Ipiales', 'Mosquera',\n",
              "       'La Unión', 'Fusagasugá', 'La Calera', 'Villeta', 'Palermo',\n",
              "       'San Pedro', 'Calima', 'Funza', 'Tuluá', 'Soledad', 'El Dovio',\n",
              "       'Santana', 'Frontino', 'Tunja', 'Tocancipá', 'Puerto Colombia',\n",
              "       'Sahagún', 'Pasto', 'Polonuevo', 'Villapinzón', 'Montebello',\n",
              "       'Santa Rosa de Osos', 'Turbaco', 'Sincelejo', 'La Ceja',\n",
              "       'San Francisco', 'Lorica', 'Oicatá', 'Arjona', 'Sopó', 'Ciénaga',\n",
              "       'San Andrés de Tumaco', 'Riohacha', 'Zipaquirá',\n",
              "       'Puerto Santander', 'Togüí', 'Montenegro', 'Cumbal', 'Ulloa',\n",
              "       'Santander de Quilichao', 'Filandia', 'Circasia', 'Anserma',\n",
              "       'Donmatías', 'Caldas', 'Choachí', 'Cocorná', 'Montería', 'Guacarí',\n",
              "       'Tenjo', 'Buenaventura', 'Acacías', 'Barrancabermeja',\n",
              "       'San Juan de Rioseco', 'Angostura', 'Puerto Tejada', 'Ponedera',\n",
              "       'Santo Tomás', 'Galapa', 'Ciénaga de Oro', 'Santa Rosa de Cabal',\n",
              "       'La Tebaida', 'Miranda', 'Jamundí', 'Copacabana', 'Tenza',\n",
              "       'Ginebra', 'Andalucía', 'Garagoa', 'Santa Sofía', 'Facatativá',\n",
              "       'Contadero', 'Cumbitara', 'Ocaña', 'Cimitarra', 'Concepción',\n",
              "       'Curití', 'Espinal', 'Socha', 'San Diego', 'Bugalagrande',\n",
              "       'Villa de San Diego de Ubaté', 'El Santuario', 'Fundación',\n",
              "       'Cogua', 'Sogamoso', 'Cereté', 'Tierralta', 'Suesca', 'Agrado',\n",
              "       'Gigante', 'Pitalito', 'Chocó', 'Candelaria', 'El Cerrito',\n",
              "       'Florida', 'Yotoco', 'Zona Bananera', 'Baranoa', 'Malambo',\n",
              "       'San Pedro de Urabá', 'Melgar', 'San Cristóbal',\n",
              "       'Santa Fé de Antioquia', 'San Martín', 'Timbío', 'La Virginia',\n",
              "       'Granada', 'Sonsón', 'Túquerres', 'Restrepo', 'El Banco',\n",
              "       'Barranco de Loba', 'Leticia', 'Amagá', 'Sibaté', 'Florencia',\n",
              "       'Paicol', 'Acevedo', 'Timaná', 'Isnos', 'San Agustín', 'Garzón',\n",
              "       'Vijes', 'Aquitania', 'Aipe', 'Cundinamarca', 'Calamar',\n",
              "       'Marsella', 'Sabanagrande', 'Guaduas', 'Piedecuesta', 'Barbosa',\n",
              "       'Santa Rosa'], dtype=object)"
            ]
          },
          "metadata": {
            "tags": []
          },
          "execution_count": 32
        }
      ]
    },
    {
      "cell_type": "markdown",
      "metadata": {
        "id": "7i5V1Hm7FKdj",
        "colab_type": "text"
      },
      "source": [
        "Realizamos un pqueño codigo donde sabremos si se tiene una ciudad repetida por lo cualse reliza el siguiente y si se tiene que el tamaño de la ciudades anteriores es igual la suma de la matriz que hallamos es que no hay no se tiene ciudades repetidas."
      ]
    },
    {
      "cell_type": "code",
      "metadata": {
        "id": "lvCrt0-vBz00",
        "colab_type": "code",
        "outputId": "4ff54971-3af7-4a71-86a7-1a27511265be",
        "colab": {
          "base_uri": "https://localhost:8080/",
          "height": 34
        }
      },
      "source": [
        "import numpy as np\n",
        "B=results_df['Ciudad'].unique()\n",
        "C=(len(B),len(B))\n",
        "A=np.zeros(C)\n",
        "for i in range(len(B)):\n",
        "  for j in range(len(B)):\n",
        "    if B[i]==B[j]:\n",
        "      A[i][j]=True\n",
        "    else:\n",
        "      A[i][j]=False\n",
        "len(B)==np.sum(A)"
      ],
      "execution_count": 0,
      "outputs": [
        {
          "output_type": "execute_result",
          "data": {
            "text/plain": [
              "True"
            ]
          },
          "metadata": {
            "tags": []
          },
          "execution_count": 33
        }
      ]
    },
    {
      "cell_type": "markdown",
      "metadata": {
        "id": "D7AgBRm9hFQI",
        "colab_type": "text"
      },
      "source": [
        "Ademas veremos otras variables como es el estado para ver si no se repiten mas variables"
      ]
    },
    {
      "cell_type": "code",
      "metadata": {
        "id": "ECR3uh6Ghwjd",
        "colab_type": "code",
        "outputId": "e9623328-1681-42de-ce7b-7ee6ffd8865f",
        "colab": {
          "base_uri": "https://localhost:8080/",
          "height": 52
        }
      },
      "source": [
        "results_df['Estado'].unique()"
      ],
      "execution_count": 0,
      "outputs": [
        {
          "output_type": "execute_result",
          "data": {
            "text/plain": [
              "array(['Leve', 'Fallecido', 'Grave', 'fallecido', 'Moderado'],\n",
              "      dtype=object)"
            ]
          },
          "metadata": {
            "tags": []
          },
          "execution_count": 34
        }
      ]
    },
    {
      "cell_type": "code",
      "metadata": {
        "id": "pdOruDY6hKsP",
        "colab_type": "code",
        "outputId": "473d1466-cf83-4882-a0c3-ac2f8a64c1ca",
        "colab": {
          "base_uri": "https://localhost:8080/",
          "height": 34
        }
      },
      "source": [
        "for i in range(len(results_df)):\n",
        "  if results_df['Estado'][i]=='fallecido':\n",
        "    results_df['Estado'][i]= 'Fallecido'\n",
        "  elif results_df['Estado'][i]=='leve':\n",
        "      results_df['Estado'][i]= 'Leve'\n",
        "results_df['Estado'].unique()"
      ],
      "execution_count": 0,
      "outputs": [
        {
          "output_type": "execute_result",
          "data": {
            "text/plain": [
              "array(['Leve', 'Fallecido', 'Grave', 'Moderado'], dtype=object)"
            ]
          },
          "metadata": {
            "tags": []
          },
          "execution_count": 35
        }
      ]
    },
    {
      "cell_type": "markdown",
      "metadata": {
        "id": "Ka_4PQV0Fs5F",
        "colab_type": "text"
      },
      "source": [
        "### Como veran se tiene una ciudad que se denomina 'CUNDINAMRCA' para este caso la trabajaremos como una ciudad y de todas formas veremos que cantidad de personas nos aparece en esta supuesta ciudad ya que quizas cuando se realizo las toma de datos pudo haber una equivocacion o otra situacion."
      ]
    },
    {
      "cell_type": "code",
      "metadata": {
        "id": "3x2ZZTNg5_UJ",
        "colab_type": "code",
        "outputId": "d097c0f1-abaf-499e-acf4-5ce9f706d6ab",
        "colab": {
          "base_uri": "https://localhost:8080/",
          "height": 446
        }
      },
      "source": [
        "results_df=results_df.set_index(['Departamento','Ciudad'])\n",
        "results_df"
      ],
      "execution_count": 0,
      "outputs": [
        {
          "output_type": "execute_result",
          "data": {
            "text/html": [
              "<div>\n",
              "<style scoped>\n",
              "    .dataframe tbody tr th:only-of-type {\n",
              "        vertical-align: middle;\n",
              "    }\n",
              "\n",
              "    .dataframe tbody tr th {\n",
              "        vertical-align: top;\n",
              "    }\n",
              "\n",
              "    .dataframe thead th {\n",
              "        text-align: right;\n",
              "    }\n",
              "</style>\n",
              "<table border=\"1\" class=\"dataframe\">\n",
              "  <thead>\n",
              "    <tr style=\"text-align: right;\">\n",
              "      <th></th>\n",
              "      <th></th>\n",
              "      <th>Id</th>\n",
              "      <th>Atencion</th>\n",
              "      <th>Edad</th>\n",
              "      <th>Sexo</th>\n",
              "      <th>Tipo</th>\n",
              "      <th>Estado</th>\n",
              "      <th>Pais de procedencia</th>\n",
              "      <th>Fecha de muerte</th>\n",
              "      <th>Fecha de diagnostico</th>\n",
              "      <th>Fecha de recuperado</th>\n",
              "    </tr>\n",
              "    <tr>\n",
              "      <th>Departamento</th>\n",
              "      <th>Ciudad</th>\n",
              "      <th></th>\n",
              "      <th></th>\n",
              "      <th></th>\n",
              "      <th></th>\n",
              "      <th></th>\n",
              "      <th></th>\n",
              "      <th></th>\n",
              "      <th></th>\n",
              "      <th></th>\n",
              "      <th></th>\n",
              "    </tr>\n",
              "  </thead>\n",
              "  <tbody>\n",
              "    <tr>\n",
              "      <th>Bogotá D.C.</th>\n",
              "      <th>Bogotá D.C.</th>\n",
              "      <td>1</td>\n",
              "      <td>Recuperado</td>\n",
              "      <td>19</td>\n",
              "      <td>F</td>\n",
              "      <td>Importado</td>\n",
              "      <td>Leve</td>\n",
              "      <td>ITALIA</td>\n",
              "      <td>-   -</td>\n",
              "      <td>2020-03-06T00:00:00.000</td>\n",
              "      <td>2020-03-13T00:00:00.000</td>\n",
              "    </tr>\n",
              "    <tr>\n",
              "      <th>Valle del Cauca</th>\n",
              "      <th>Guadalajara de Buga</th>\n",
              "      <td>2</td>\n",
              "      <td>Recuperado</td>\n",
              "      <td>34</td>\n",
              "      <td>M</td>\n",
              "      <td>Importado</td>\n",
              "      <td>Leve</td>\n",
              "      <td>ESPAÑA</td>\n",
              "      <td>-   -</td>\n",
              "      <td>2020-03-09T00:00:00.000</td>\n",
              "      <td>2020-03-19T00:00:00.000</td>\n",
              "    </tr>\n",
              "    <tr>\n",
              "      <th rowspan=\"3\" valign=\"top\">Antioquia</th>\n",
              "      <th>Medellín</th>\n",
              "      <td>3</td>\n",
              "      <td>Recuperado</td>\n",
              "      <td>50</td>\n",
              "      <td>F</td>\n",
              "      <td>Importado</td>\n",
              "      <td>Leve</td>\n",
              "      <td>ESPAÑA</td>\n",
              "      <td>-   -</td>\n",
              "      <td>2020-03-09T00:00:00.000</td>\n",
              "      <td>2020-03-15T00:00:00.000</td>\n",
              "    </tr>\n",
              "    <tr>\n",
              "      <th>Medellín</th>\n",
              "      <td>4</td>\n",
              "      <td>Recuperado</td>\n",
              "      <td>55</td>\n",
              "      <td>M</td>\n",
              "      <td>Relacionado</td>\n",
              "      <td>Leve</td>\n",
              "      <td>COLOMBIA</td>\n",
              "      <td>-   -</td>\n",
              "      <td>2020-03-11T00:00:00.000</td>\n",
              "      <td>2020-03-26T00:00:00.000</td>\n",
              "    </tr>\n",
              "    <tr>\n",
              "      <th>Medellín</th>\n",
              "      <td>5</td>\n",
              "      <td>Recuperado</td>\n",
              "      <td>25</td>\n",
              "      <td>M</td>\n",
              "      <td>Relacionado</td>\n",
              "      <td>Leve</td>\n",
              "      <td>COLOMBIA</td>\n",
              "      <td>-   -</td>\n",
              "      <td>2020-03-11T00:00:00.000</td>\n",
              "      <td>2020-03-23T00:00:00.000</td>\n",
              "    </tr>\n",
              "    <tr>\n",
              "      <th>...</th>\n",
              "      <th>...</th>\n",
              "      <td>...</td>\n",
              "      <td>...</td>\n",
              "      <td>...</td>\n",
              "      <td>...</td>\n",
              "      <td>...</td>\n",
              "      <td>...</td>\n",
              "      <td>...</td>\n",
              "      <td>...</td>\n",
              "      <td>...</td>\n",
              "      <td>...</td>\n",
              "    </tr>\n",
              "    <tr>\n",
              "      <th rowspan=\"2\" valign=\"top\">Bogotá D.C.</th>\n",
              "      <th>Bogotá D.C.</th>\n",
              "      <td>4557</td>\n",
              "      <td>Casa</td>\n",
              "      <td>20</td>\n",
              "      <td>F</td>\n",
              "      <td>Relacionado</td>\n",
              "      <td>Leve</td>\n",
              "      <td>COLOMBIA</td>\n",
              "      <td>-   -</td>\n",
              "      <td>2020-04-23T00:00:00.000</td>\n",
              "      <td>-   -</td>\n",
              "    </tr>\n",
              "    <tr>\n",
              "      <th>Bogotá D.C.</th>\n",
              "      <td>4558</td>\n",
              "      <td>Casa</td>\n",
              "      <td>33</td>\n",
              "      <td>F</td>\n",
              "      <td>Relacionado</td>\n",
              "      <td>Leve</td>\n",
              "      <td>COLOMBIA</td>\n",
              "      <td>-   -</td>\n",
              "      <td>2020-04-23T00:00:00.000</td>\n",
              "      <td>-   -</td>\n",
              "    </tr>\n",
              "    <tr>\n",
              "      <th>Valle del Cauca</th>\n",
              "      <th>Cali</th>\n",
              "      <td>4559</td>\n",
              "      <td>Casa</td>\n",
              "      <td>69</td>\n",
              "      <td>F</td>\n",
              "      <td>En estudio</td>\n",
              "      <td>Leve</td>\n",
              "      <td>COLOMBIA</td>\n",
              "      <td>-   -</td>\n",
              "      <td>2020-04-23T00:00:00.000</td>\n",
              "      <td>-   -</td>\n",
              "    </tr>\n",
              "    <tr>\n",
              "      <th>Antioquia</th>\n",
              "      <th>Medellín</th>\n",
              "      <td>4560</td>\n",
              "      <td>Casa</td>\n",
              "      <td>8</td>\n",
              "      <td>F</td>\n",
              "      <td>Relacionado</td>\n",
              "      <td>Leve</td>\n",
              "      <td>COLOMBIA</td>\n",
              "      <td>-   -</td>\n",
              "      <td>2020-04-23T00:00:00.000</td>\n",
              "      <td>-   -</td>\n",
              "    </tr>\n",
              "    <tr>\n",
              "      <th>Santa Marta D.T. y C.</th>\n",
              "      <th>Santa Marta</th>\n",
              "      <td>4561</td>\n",
              "      <td>Casa</td>\n",
              "      <td>33</td>\n",
              "      <td>M</td>\n",
              "      <td>Relacionado</td>\n",
              "      <td>Leve</td>\n",
              "      <td>COLOMBIA</td>\n",
              "      <td>-   -</td>\n",
              "      <td>2020-04-23T00:00:00.000</td>\n",
              "      <td>-   -</td>\n",
              "    </tr>\n",
              "  </tbody>\n",
              "</table>\n",
              "<p>4561 rows × 10 columns</p>\n",
              "</div>"
            ],
            "text/plain": [
              "                                             Id  ...      Fecha de recuperado\n",
              "Departamento          Ciudad                     ...                         \n",
              "Bogotá D.C.           Bogotá D.C.             1  ...  2020-03-13T00:00:00.000\n",
              "Valle del Cauca       Guadalajara de Buga     2  ...  2020-03-19T00:00:00.000\n",
              "Antioquia             Medellín                3  ...  2020-03-15T00:00:00.000\n",
              "                      Medellín                4  ...  2020-03-26T00:00:00.000\n",
              "                      Medellín                5  ...  2020-03-23T00:00:00.000\n",
              "...                                         ...  ...                      ...\n",
              "Bogotá D.C.           Bogotá D.C.          4557  ...                    -   -\n",
              "                      Bogotá D.C.          4558  ...                    -   -\n",
              "Valle del Cauca       Cali                 4559  ...                    -   -\n",
              "Antioquia             Medellín             4560  ...                    -   -\n",
              "Santa Marta D.T. y C. Santa Marta          4561  ...                    -   -\n",
              "\n",
              "[4561 rows x 10 columns]"
            ]
          },
          "metadata": {
            "tags": []
          },
          "execution_count": 36
        }
      ]
    },
    {
      "cell_type": "code",
      "metadata": {
        "id": "zBeUwlgWHMR2",
        "colab_type": "code",
        "outputId": "57219967-8af9-43f5-ce16-985a7a251196",
        "colab": {
          "base_uri": "https://localhost:8080/",
          "height": 110
        }
      },
      "source": [
        "results_df.loc[[('Cundinamarca','Cundinamarca')]]"
      ],
      "execution_count": 0,
      "outputs": [
        {
          "output_type": "execute_result",
          "data": {
            "text/html": [
              "<div>\n",
              "<style scoped>\n",
              "    .dataframe tbody tr th:only-of-type {\n",
              "        vertical-align: middle;\n",
              "    }\n",
              "\n",
              "    .dataframe tbody tr th {\n",
              "        vertical-align: top;\n",
              "    }\n",
              "\n",
              "    .dataframe thead th {\n",
              "        text-align: right;\n",
              "    }\n",
              "</style>\n",
              "<table border=\"1\" class=\"dataframe\">\n",
              "  <thead>\n",
              "    <tr style=\"text-align: right;\">\n",
              "      <th></th>\n",
              "      <th></th>\n",
              "      <th>Id</th>\n",
              "      <th>Atencion</th>\n",
              "      <th>Edad</th>\n",
              "      <th>Sexo</th>\n",
              "      <th>Tipo</th>\n",
              "      <th>Estado</th>\n",
              "      <th>Pais de procedencia</th>\n",
              "      <th>Fecha de muerte</th>\n",
              "      <th>Fecha de diagnostico</th>\n",
              "      <th>Fecha de recuperado</th>\n",
              "    </tr>\n",
              "    <tr>\n",
              "      <th>Departamento</th>\n",
              "      <th>Ciudad</th>\n",
              "      <th></th>\n",
              "      <th></th>\n",
              "      <th></th>\n",
              "      <th></th>\n",
              "      <th></th>\n",
              "      <th></th>\n",
              "      <th></th>\n",
              "      <th></th>\n",
              "      <th></th>\n",
              "      <th></th>\n",
              "    </tr>\n",
              "  </thead>\n",
              "  <tbody>\n",
              "    <tr>\n",
              "      <th>Cundinamarca</th>\n",
              "      <th>Cundinamarca</th>\n",
              "      <td>3964</td>\n",
              "      <td>Fallecido</td>\n",
              "      <td>1</td>\n",
              "      <td>M</td>\n",
              "      <td>En estudio</td>\n",
              "      <td>Fallecido</td>\n",
              "      <td>COLOMBIA</td>\n",
              "      <td>2020-04-21T00:00:00.000</td>\n",
              "      <td>2020-04-20T00:00:00.000</td>\n",
              "      <td>-   -</td>\n",
              "    </tr>\n",
              "  </tbody>\n",
              "</table>\n",
              "</div>"
            ],
            "text/plain": [
              "                             Id  ... Fecha de recuperado\n",
              "Departamento Ciudad              ...                    \n",
              "Cundinamarca Cundinamarca  3964  ...               -   -\n",
              "\n",
              "[1 rows x 10 columns]"
            ]
          },
          "metadata": {
            "tags": []
          },
          "execution_count": 169
        }
      ]
    },
    {
      "cell_type": "markdown",
      "metadata": {
        "id": "lUgcwd4j3tOB",
        "colab_type": "text"
      },
      "source": [
        "Al parecer es un infanteque murio al dia de haber sido diagnosticado, se revisara en la base de datos del gobierno para ver que nos aparece, cuando revise este (aparece), de esta misma manera."
      ]
    },
    {
      "cell_type": "markdown",
      "metadata": {
        "id": "RHL9J2LjYX92",
        "colab_type": "text"
      },
      "source": [
        "## Diagramas"
      ]
    },
    {
      "cell_type": "code",
      "metadata": {
        "id": "u-pUFMnYYXNb",
        "colab_type": "code",
        "colab": {}
      },
      "source": [
        "def Diagramas(a):\n",
        "       import matplotlib.pyplot as plt\n",
        "       a1=a['Fecha de diagnostico']\n",
        "       x1=a['Fecha de diagnostico'].unique()\n",
        "       y11=np.zeros(len(x1))\n",
        "       y22=np.zeros(len(x1))\n",
        "       for i in range(len(x1)):\n",
        "          for j in range(len(a1)):\n",
        "            if a1[j]==x1[i]:\n",
        "               y11[i]+=1\n",
        "       for i in range(len(x1)):\n",
        "           y22[i]=np.sum(y11[:i+1])\n",
        "           p=x1[i]\n",
        "           p=p[0:10]\n",
        "           x1[i]=p\n",
        "       f=a['Edad']\n",
        "       l=np.zeros(3)\n",
        "       for i in range(len(f)):\n",
        "           if int(f[i])<18:\n",
        "              f[i]='Menor de edad'\n",
        "              l[2]+=1\n",
        "           elif int(f[i])>=18 and int(f[i])<70:\n",
        "              f[i]='Adulto'\n",
        "              l[0]+=1\n",
        "           elif int(f[i])>=70:\n",
        "             f[i]='Adulto mayor'\n",
        "             l[1]+=1\n",
        "       f=f.unique()\n",
        "       print('\\n Datos por rango de edad: ')\n",
        "       print(f)\n",
        "       print(l)\n",
        "       s=a['Sexo']\n",
        "       for i in range(len(s)):\n",
        "         if s[i]=='f':\n",
        "           s[i]='F'\n",
        "         elif s[i]=='m':\n",
        "           s[i]='M'\n",
        "       sx=s.unique()\n",
        "       print('\\n Datos por masculino y femenino:')\n",
        "       print(sx)\n",
        "       s1=np.zeros(len(sx))\n",
        "       for i in range(len(a)):\n",
        "         if s[i]=='F':\n",
        "            s1[1]+=1\n",
        "         elif s[i] == 'M':\n",
        "            s1[0]+=1\n",
        "       print(s1)\n",
        "       fig,[(figura1,figura2),(figura3,figura4)] =  plt.subplots(2,2,figsize=(115,25))\n",
        "       figura1.plot(x1,y11)\n",
        "       plt.setp(figura1, xlabel='Fecha')\n",
        "       plt.setp(figura1, ylabel='Contageados')\n",
        "       figura2.plot(x1,y22)\n",
        "       plt.setp(figura2, xlabel='Fecha')\n",
        "       plt.setp(figura2, ylabel='Contageados')\n",
        "       figura3.bar(f,l)\n",
        "       plt.setp(figura3, xlabel='Intervalo de edad')\n",
        "       plt.setp(figura3, ylabel='Contageados')\n",
        "       figura4.pie(s1,labels=sx,autopct=\"%0.1f %%\")\n",
        "       plt.show()\n",
        "       return y22"
      ],
      "execution_count": 0,
      "outputs": []
    },
    {
      "cell_type": "code",
      "metadata": {
        "id": "lmGpNWbItIGp",
        "colab_type": "code",
        "colab": {}
      },
      "source": [
        "def prediccion(y22):\n",
        "  from scipy.optimize import curve_fit\n",
        "  import matplotlib.pyplot as plt\n",
        "  import numpy as np\n",
        "  y22=y22\n",
        "  x11=np.array(range(1,len(y22)+1))\n",
        "  print('los dias que lleva presente el coronavirus es de ',len(x11),'dias')\n",
        "  entreno=len(x11)-1\n",
        "  modelo=curve_fit(lambda t,a,b: a*np.exp(b*t),  x11[:entreno],  y22[:entreno],  p0=(y22[0],1))\n",
        "  # y=modelo[0] exp(modelo[1]*x)\n",
        "  A=modelo[0][0]\n",
        "  B=modelo[0][1]\n",
        "  modelo=modelo[0][0]*np.exp(modelo[0][1]*x11)\n",
        "  plt.plot(x11,y22,'o')\n",
        "  plt.plot(x11,modelo)\n",
        "  plt.show()\n",
        "  return A,B"
      ],
      "execution_count": 0,
      "outputs": []
    },
    {
      "cell_type": "code",
      "metadata": {
        "id": "--yD7gWL0c6Y",
        "colab_type": "code",
        "colab": {}
      },
      "source": [
        "def prediccionahorasi(A,B,dia):\n",
        "  import numpy as np\n",
        "  y=A*np.exp(B*dia)\n",
        "  print('Para el dia #',dia,'se estima que se tendra ',int(y),'contagiados')"
      ],
      "execution_count": 0,
      "outputs": []
    },
    {
      "cell_type": "code",
      "metadata": {
        "id": "aQTJBk68NZjW",
        "colab_type": "code",
        "outputId": "ee24f889-6c15-48e1-95c6-76c0f86dfad9",
        "colab": {
          "base_uri": "https://localhost:8080/",
          "height": 910
        }
      },
      "source": [
        "def Departamentos(departamento=None,municipio=None,dia=1):\n",
        "  import pandas as pd\n",
        "  import numpy as np\n",
        "  if departamento and municipio==None:\n",
        "       a=results_df.loc[departamento]\n",
        "       a=a.set_index('Atencion')\n",
        "       b=a.loc['Fallecido']\n",
        "       c=a.loc['Recuperado']\n",
        "       print('----En el departamento de ',departamento,'se tiene:---- ')\n",
        "       print('En total se tiene',len(a),'casos por COVID-19 contando fallecidos y recuperados en el departamento de',departamento)\n",
        "       print('En total se tiene',len(b),'casos de COVID-19 fallecidos')\n",
        "       print('En total se tiene',len(c),'casos de COVID-19 recuperados')\n",
        "       print('En total se tiene',len(a)-len(b)-len(c),'caso ahora latentes')\n",
        "       #### DIAGRAMAS\n",
        "       print(\"\\x1b[1;34m\"+\"A nivel nacional se tiene los siguientes diagramas: \")  \n",
        "       y22=Diagramas(a=a)\n",
        "       A,B=prediccion(y22=y22)\n",
        "       prediccionahorasi(A,B,dia)\n",
        "       return y22\n",
        "       \n",
        "  elif departamento==None and municipio==None:\n",
        "        a=results_df.set_index('Atencion')\n",
        "        b=results_df.set_index('Atencion')\n",
        "        c=results_df.set_index('Atencion')\n",
        "        b=b.loc['Fallecido']\n",
        "        c=c.loc['Recuperado']\n",
        "        print('En total se tiene',len(results_df),'casos por COVID-19 contando fallecidos y recuperados en todo el pais')\n",
        "        print('En total se tiene',len(b),'casos de COVID-19 fallecidos')\n",
        "        print('En total se tiene',len(c),'casos de COVID-19 recuperados')\n",
        "        print('En total se tiene',len(results_df)-len(b)-len(c),'caso ahora latentes')\n",
        "        #### DIAGRAMAS\n",
        "        print(\"\\x1b[1;34m\"+\"a nivel nacional se tiene los siguientes diagramas: \")  \n",
        "        y22=Diagramas(a=a)\n",
        "        A,B=prediccion(y22=y22)\n",
        "        prediccionahorasi(A,B,dia)\n",
        "        return y22\n",
        "\n",
        "        \n",
        "  elif departamento and municipio:\n",
        "       a=results_df.loc[[(departamento,municipio)]]\n",
        "       a=a.set_index('Atencion')\n",
        "       b=a.loc['Fallecido']\n",
        "       c=a.loc['Recuperado']\n",
        "       print('----En el municipio de ',municipio,'se tiene:----')\n",
        "       print('En total se tiene',len(a),'casos por COVID-19 contando fallecidos y recuperados en el municipio de',municipio)\n",
        "       print('En total se tiene',len(b),'casos de COVID-19 fallecidos')\n",
        "       print('En total se tiene',len(c),'casos de COVID-19 recuperados')\n",
        "       print('En total se tiene',len(a)-len(b)-len(c),'caso ahora latentes')\n",
        "       #### DIAGRAMAS\n",
        "       print(\"\\x1b[1;34m\"+\"Para el municipio de \"+municipio+\" se tiene los siguientes diagramas: \")  \n",
        "       y22=Diagramas(a=a)\n",
        "       A,B=prediccion(y22=y22)\n",
        "       prediccionahorasi(A,B,dia)\n",
        "       return y22\n",
        "       \n",
        "  \n",
        "\n",
        "    \n",
        "y22=Departamentos(departamento='Antioquia',municipio='Medellín',dia=37)\n",
        "   \n"
      ],
      "execution_count": 0,
      "outputs": [
        {
          "output_type": "stream",
          "text": [
            "----En el municipio de  Medellín se tiene:----\n",
            "En total se tiene 267 casos por COVID-19 contando fallecidos y recuperados en el municipio de Medellín\n",
            "En total se tiene 2 casos de COVID-19 fallecidos\n",
            "En total se tiene 80 casos de COVID-19 recuperados\n",
            "En total se tiene 185 caso ahora latentes\n",
            "\u001b[1;34mPara el municipio de Medellín se tiene los siguientes diagramas: \n",
            "\n",
            " Datos por rango de edad: \n",
            "['Adulto' 'Adulto mayor' 'Menor de edad']\n",
            "[241.  13.  13.]\n",
            "\n",
            " Datos por masculino y femenino:\n",
            "['F' 'M']\n",
            "[124. 143.]\n"
          ],
          "name": "stdout"
        },
        {
          "output_type": "display_data",
          "data": {
            "image/png": "[encoded data removed]",
            "text/plain": [
              "<Figure size 8280x1800 with 4 Axes>"
            ]
          },
          "metadata": {
            "tags": [],
            "needs_background": "light"
          }
        },
        {
          "output_type": "stream",
          "text": [
            "los dias que lleva presente el coronavirus es de  37 dias\n"
          ],
          "name": "stdout"
        },
        {
          "output_type": "display_data",
          "data": {
            "image/png": "[encoded data removed]",
            "text/plain": [
              "<Figure size 432x288 with 1 Axes>"
            ]
          },
          "metadata": {
            "tags": [],
            "needs_background": "light"
          }
        },
        {
          "output_type": "stream",
          "text": [
            "Para el dia # 37 se estima que se tendra  292 contagiados\n"
          ],
          "name": "stdout"
        }
      ]
    },
    {
      "cell_type": "code",
      "metadata": {
        "id": "PJO36l61NO78",
        "colab_type": "code",
        "outputId": "0164fbeb-6706-4856-cbd0-6bc235999eee",
        "colab": {
          "base_uri": "https://localhost:8080/",
          "height": 34
        }
      },
      "source": [
        " 100*((292 -267)/267)"
      ],
      "execution_count": 0,
      "outputs": [
        {
          "output_type": "execute_result",
          "data": {
            "text/plain": [
              "9.363295880149813"
            ]
          },
          "metadata": {
            "tags": []
          },
          "execution_count": 42
        }
      ]
    },
    {
      "cell_type": "code",
      "metadata": {
        "id": "DI26f10kfoBh",
        "colab_type": "code",
        "colab": {}
      },
      "source": [
        "z"
      ],
      "execution_count": 0,
      "outputs": []
    }
  ]
}